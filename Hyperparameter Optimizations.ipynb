{
 "cells": [
  {
   "cell_type": "markdown",
   "metadata": {},
   "source": [
    "# Hyperparameter Optimization Techniques:\n",
    "    \n",
    "## GridSearchCV\n",
    "## RandomizedSearchCV\n",
    "## Bayesian Optimization -Automate Hyperparameter Tuning (Hyperopt)\n",
    "## Optuna- Automate Hyperparameter Tuning\n",
    "## Genetic Algorithms (TPOT Classifier)"
   ]
  },
  {
   "cell_type": "code",
   "execution_count": 1,
   "metadata": {},
   "outputs": [
    {
     "data": {
      "text/html": [
       "<div>\n",
       "<style scoped>\n",
       "    .dataframe tbody tr th:only-of-type {\n",
       "        vertical-align: middle;\n",
       "    }\n",
       "\n",
       "    .dataframe tbody tr th {\n",
       "        vertical-align: top;\n",
       "    }\n",
       "\n",
       "    .dataframe thead th {\n",
       "        text-align: right;\n",
       "    }\n",
       "</style>\n",
       "<table border=\"1\" class=\"dataframe\">\n",
       "  <thead>\n",
       "    <tr style=\"text-align: right;\">\n",
       "      <th></th>\n",
       "      <th>Number of times pregnant</th>\n",
       "      <th>Plasma glucose concentration</th>\n",
       "      <th>Diastolic blood pressure</th>\n",
       "      <th>Triceps skin fold thickness</th>\n",
       "      <th>2-Hour serum insulin</th>\n",
       "      <th>Body mass index</th>\n",
       "      <th>Age</th>\n",
       "      <th>Class</th>\n",
       "    </tr>\n",
       "  </thead>\n",
       "  <tbody>\n",
       "    <tr>\n",
       "      <th>0</th>\n",
       "      <td>6</td>\n",
       "      <td>148</td>\n",
       "      <td>72</td>\n",
       "      <td>35</td>\n",
       "      <td>0</td>\n",
       "      <td>33.6</td>\n",
       "      <td>50</td>\n",
       "      <td>positive</td>\n",
       "    </tr>\n",
       "    <tr>\n",
       "      <th>1</th>\n",
       "      <td>1</td>\n",
       "      <td>85</td>\n",
       "      <td>66</td>\n",
       "      <td>29</td>\n",
       "      <td>0</td>\n",
       "      <td>26.6</td>\n",
       "      <td>31</td>\n",
       "      <td>negative</td>\n",
       "    </tr>\n",
       "    <tr>\n",
       "      <th>2</th>\n",
       "      <td>8</td>\n",
       "      <td>183</td>\n",
       "      <td>64</td>\n",
       "      <td>0</td>\n",
       "      <td>0</td>\n",
       "      <td>23.3</td>\n",
       "      <td>32</td>\n",
       "      <td>positive</td>\n",
       "    </tr>\n",
       "    <tr>\n",
       "      <th>3</th>\n",
       "      <td>1</td>\n",
       "      <td>89</td>\n",
       "      <td>66</td>\n",
       "      <td>23</td>\n",
       "      <td>94</td>\n",
       "      <td>28.1</td>\n",
       "      <td>21</td>\n",
       "      <td>negative</td>\n",
       "    </tr>\n",
       "    <tr>\n",
       "      <th>4</th>\n",
       "      <td>0</td>\n",
       "      <td>137</td>\n",
       "      <td>40</td>\n",
       "      <td>35</td>\n",
       "      <td>168</td>\n",
       "      <td>43.1</td>\n",
       "      <td>33</td>\n",
       "      <td>positive</td>\n",
       "    </tr>\n",
       "  </tbody>\n",
       "</table>\n",
       "</div>"
      ],
      "text/plain": [
       "   Number of times pregnant  Plasma glucose concentration  \\\n",
       "0                         6                           148   \n",
       "1                         1                            85   \n",
       "2                         8                           183   \n",
       "3                         1                            89   \n",
       "4                         0                           137   \n",
       "\n",
       "   Diastolic blood pressure  Triceps skin fold thickness  \\\n",
       "0                        72                           35   \n",
       "1                        66                           29   \n",
       "2                        64                            0   \n",
       "3                        66                           23   \n",
       "4                        40                           35   \n",
       "\n",
       "   2-Hour serum insulin  Body mass index  Age     Class  \n",
       "0                     0             33.6   50  positive  \n",
       "1                     0             26.6   31  negative  \n",
       "2                     0             23.3   32  positive  \n",
       "3                    94             28.1   21  negative  \n",
       "4                   168             43.1   33  positive  "
      ]
     },
     "execution_count": 1,
     "metadata": {},
     "output_type": "execute_result"
    }
   ],
   "source": [
    "import pandas as pd\n",
    "df=pd.read_csv('diabetes.csv')\n",
    "df.head()"
   ]
  },
  {
   "cell_type": "code",
   "execution_count": 2,
   "metadata": {},
   "outputs": [
    {
     "data": {
      "text/plain": [
       "Number of times pregnant        0\n",
       "Plasma glucose concentration    0\n",
       "Diastolic blood pressure        0\n",
       "Triceps skin fold thickness     0\n",
       "2-Hour serum insulin            0\n",
       "Body mass index                 0\n",
       "Age                             0\n",
       "Class                           0\n",
       "dtype: int64"
      ]
     },
     "execution_count": 2,
     "metadata": {},
     "output_type": "execute_result"
    }
   ],
   "source": [
    "df.isnull().sum()"
   ]
  },
  {
   "cell_type": "code",
   "execution_count": 3,
   "metadata": {},
   "outputs": [],
   "source": [
    "X=df.drop('Class',axis=1)\n",
    "y=df['Class']"
   ]
  },
  {
   "cell_type": "code",
   "execution_count": 4,
   "metadata": {},
   "outputs": [],
   "source": [
    "from sklearn.model_selection import train_test_split\n",
    "X_train,X_test,y_train,y_test=train_test_split(X,y,test_size=0.20,random_state=0)"
   ]
  },
  {
   "cell_type": "markdown",
   "metadata": {},
   "source": [
    "## Random Forest Model Building"
   ]
  },
  {
   "cell_type": "code",
   "execution_count": 5,
   "metadata": {},
   "outputs": [],
   "source": [
    "\n",
    "from sklearn.ensemble import RandomForestClassifier\n",
    "rf_classifier=RandomForestClassifier(n_estimators=10).fit(X_train,y_train)\n",
    "prediction=rf_classifier.predict(X_test)"
   ]
  },
  {
   "cell_type": "code",
   "execution_count": 6,
   "metadata": {},
   "outputs": [
    {
     "data": {
      "text/plain": [
       "negative    500\n",
       "positive    268\n",
       "Name: Class, dtype: int64"
      ]
     },
     "execution_count": 6,
     "metadata": {},
     "output_type": "execute_result"
    }
   ],
   "source": [
    "y.value_counts()"
   ]
  },
  {
   "cell_type": "code",
   "execution_count": 7,
   "metadata": {},
   "outputs": [
    {
     "name": "stdout",
     "output_type": "stream",
     "text": [
      "[[92 15]\n",
      " [15 32]]\n",
      "0.8051948051948052\n",
      "              precision    recall  f1-score   support\n",
      "\n",
      "    negative       0.86      0.86      0.86       107\n",
      "    positive       0.68      0.68      0.68        47\n",
      "\n",
      "    accuracy                           0.81       154\n",
      "   macro avg       0.77      0.77      0.77       154\n",
      "weighted avg       0.81      0.81      0.81       154\n",
      "\n"
     ]
    }
   ],
   "source": [
    "from sklearn.metrics import confusion_matrix,classification_report,accuracy_score\n",
    "print(confusion_matrix(y_test,prediction))\n",
    "print(accuracy_score(y_test,prediction))\n",
    "print(classification_report(y_test,prediction))"
   ]
  },
  {
   "cell_type": "markdown",
   "metadata": {},
   "source": [
    "## Parameters of random forest\n",
    "\n",
    "The main parameters used by a Random Forest Classifier are:\n",
    "\n",
    "criterion = the function used to evaluate the quality of a split.\n",
    "\n",
    "max_depth = maximum number of levels allowed in each tree.\n",
    "\n",
    "max_features = maximum number of features considered when splitting a node.\n",
    "\n",
    "min_samples_leaf = minimum number of samples which can be stored in a tree leaf.\n",
    "\n",
    "min_samples_split = minimum number of samples necessary in a node to cause node splitting.\n",
    "\n",
    "n_estimators = number of trees in the ensamble."
   ]
  },
  {
   "cell_type": "markdown",
   "metadata": {},
   "source": [
    "### Manual hyperparameter tuning"
   ]
  },
  {
   "cell_type": "code",
   "execution_count": 8,
   "metadata": {},
   "outputs": [
    {
     "name": "stdout",
     "output_type": "stream",
     "text": [
      "[[97 10]\n",
      " [18 29]]\n",
      "0.8181818181818182\n",
      "              precision    recall  f1-score   support\n",
      "\n",
      "    negative       0.84      0.91      0.87       107\n",
      "    positive       0.74      0.62      0.67        47\n",
      "\n",
      "    accuracy                           0.82       154\n",
      "   macro avg       0.79      0.76      0.77       154\n",
      "weighted avg       0.81      0.82      0.81       154\n",
      "\n"
     ]
    }
   ],
   "source": [
    "model=RandomForestClassifier(n_estimators=300,criterion='entropy',\n",
    "                             max_features='sqrt',min_samples_leaf=10,random_state=100).fit(X_train,y_train)\n",
    "predictions=model.predict(X_test)\n",
    "print(confusion_matrix(y_test,predictions))\n",
    "print(accuracy_score(y_test,predictions))\n",
    "print(classification_report(y_test,predictions))"
   ]
  },
  {
   "cell_type": "markdown",
   "metadata": {},
   "source": [
    "# RandomizedSearchCV"
   ]
  },
  {
   "cell_type": "code",
   "execution_count": 9,
   "metadata": {},
   "outputs": [
    {
     "name": "stdout",
     "output_type": "stream",
     "text": [
      "{'n_estimators': [200, 400, 600, 800, 1000, 1200, 1400, 1600, 1800, 2000], 'max_features': ['auto', 'sqrt', 'log2'], 'max_depth': [10, 120, 230, 340, 450, 560, 670, 780, 890, 1000], 'min_samples_split': [2, 5, 10, 14], 'min_samples_leaf': [1, 2, 4, 6, 8], 'criterion': ['entropy', 'gini']}\n"
     ]
    }
   ],
   "source": [
    "import numpy as np\n",
    "from sklearn.model_selection import RandomizedSearchCV\n",
    "# Number of trees in random forest\n",
    "n_estimators = [int(x) for x in np.linspace(start = 200, stop = 2000, num = 10)]\n",
    "# Number of features to consider at every split\n",
    "max_features = ['auto', 'sqrt','log2']\n",
    "# Maximum number of levels in tree\n",
    "max_depth = [int(x) for x in np.linspace(10, 1000,10)]\n",
    "# Minimum number of samples required to split a node\n",
    "min_samples_split = [2, 5, 10,14]\n",
    "# Minimum number of samples required at each leaf node\n",
    "min_samples_leaf = [1, 2, 4,6,8]\n",
    "# Create the random grid\n",
    "random_grid = {'n_estimators': n_estimators,\n",
    "               'max_features': max_features,\n",
    "               'max_depth': max_depth,\n",
    "               'min_samples_split': min_samples_split,\n",
    "               'min_samples_leaf': min_samples_leaf,\n",
    "              'criterion':['entropy','gini']}\n",
    "print(random_grid)"
   ]
  },
  {
   "cell_type": "code",
   "execution_count": 10,
   "metadata": {},
   "outputs": [
    {
     "name": "stdout",
     "output_type": "stream",
     "text": [
      "Fitting 3 folds for each of 100 candidates, totalling 300 fits\n"
     ]
    },
    {
     "name": "stderr",
     "output_type": "stream",
     "text": [
      "[Parallel(n_jobs=-1)]: Using backend LokyBackend with 4 concurrent workers.\n",
      "[Parallel(n_jobs=-1)]: Done  33 tasks      | elapsed:   37.9s\n",
      "[Parallel(n_jobs=-1)]: Done 154 tasks      | elapsed:  2.7min\n",
      "[Parallel(n_jobs=-1)]: Done 300 out of 300 | elapsed:  5.2min finished\n"
     ]
    },
    {
     "data": {
      "text/plain": [
       "RandomizedSearchCV(cv=3, estimator=RandomForestClassifier(), n_iter=100,\n",
       "                   n_jobs=-1,\n",
       "                   param_distributions={'criterion': ['entropy', 'gini'],\n",
       "                                        'max_depth': [10, 120, 230, 340, 450,\n",
       "                                                      560, 670, 780, 890,\n",
       "                                                      1000],\n",
       "                                        'max_features': ['auto', 'sqrt',\n",
       "                                                         'log2'],\n",
       "                                        'min_samples_leaf': [1, 2, 4, 6, 8],\n",
       "                                        'min_samples_split': [2, 5, 10, 14],\n",
       "                                        'n_estimators': [200, 400, 600, 800,\n",
       "                                                         1000, 1200, 1400, 1600,\n",
       "                                                         1800, 2000]},\n",
       "                   random_state=100, verbose=2)"
      ]
     },
     "execution_count": 10,
     "metadata": {},
     "output_type": "execute_result"
    }
   ],
   "source": [
    "\n",
    "rf=RandomForestClassifier()\n",
    "rf_randomcv=RandomizedSearchCV(estimator=rf,param_distributions=random_grid,n_iter=100,cv=3,verbose=2,\n",
    "                               random_state=100,n_jobs=-1)\n",
    "### fit the randomized model\n",
    "rf_randomcv.fit(X_train,y_train)"
   ]
  },
  {
   "cell_type": "code",
   "execution_count": 11,
   "metadata": {},
   "outputs": [
    {
     "data": {
      "text/plain": [
       "{'n_estimators': 2000,\n",
       " 'min_samples_split': 2,\n",
       " 'min_samples_leaf': 8,\n",
       " 'max_features': 'auto',\n",
       " 'max_depth': 340,\n",
       " 'criterion': 'gini'}"
      ]
     },
     "execution_count": 11,
     "metadata": {},
     "output_type": "execute_result"
    }
   ],
   "source": [
    "rf_randomcv.best_params_"
   ]
  },
  {
   "cell_type": "code",
   "execution_count": 12,
   "metadata": {},
   "outputs": [],
   "source": [
    "best_random_grid=rf_randomcv.best_estimator_"
   ]
  },
  {
   "cell_type": "code",
   "execution_count": 13,
   "metadata": {},
   "outputs": [
    {
     "name": "stdout",
     "output_type": "stream",
     "text": [
      "[[97 10]\n",
      " [19 28]]\n",
      "Accuracy Score 0.8116883116883117\n",
      "Classification report:               precision    recall  f1-score   support\n",
      "\n",
      "    negative       0.84      0.91      0.87       107\n",
      "    positive       0.74      0.60      0.66        47\n",
      "\n",
      "    accuracy                           0.81       154\n",
      "   macro avg       0.79      0.75      0.76       154\n",
      "weighted avg       0.81      0.81      0.81       154\n",
      "\n"
     ]
    }
   ],
   "source": [
    "from sklearn.metrics import accuracy_score\n",
    "y_pred=best_random_grid.predict(X_test)\n",
    "print(confusion_matrix(y_test,y_pred))\n",
    "print(\"Accuracy Score {}\".format(accuracy_score(y_test,y_pred)))\n",
    "print(\"Classification report: {}\".format(classification_report(y_test,y_pred)))"
   ]
  },
  {
   "cell_type": "markdown",
   "metadata": {},
   "source": [
    "# Bayesian Optimization"
   ]
  },
  {
   "cell_type": "markdown",
   "metadata": {},
   "source": [
    "Bayesian optimization uses probability to find the minimum of a function. The final aim is to find the input value to a function which can gives us the lowest possible output value.It usually performs better than random,grid and manual search providing better performance in the testing phase and reduced optimization time. In Hyperopt library, Bayesian Optimization can be implemented giving 3 three main parameters to the function fmin.\n",
    "\n",
    "·         Objective Function = defines the loss function to minimize.\n",
    "\n",
    "·         Domain Space = defines the range of input values to test (in Bayesian Optimization this space creates a probability distribution for each of the used Hyperparameters).\n",
    "\n",
    "·         Optimization Algorithm = defines the search algorithm to use to select the best input values to use in each new iteration"
   ]
  },
  {
   "cell_type": "code",
   "execution_count": 14,
   "metadata": {},
   "outputs": [
    {
     "name": "stdout",
     "output_type": "stream",
     "text": [
      "Requirement already satisfied: hyperopt in c:\\users\\vikee\\anaconda3\\lib\\site-packages (0.2.4)\n",
      "Requirement already satisfied: tqdm in c:\\users\\vikee\\anaconda3\\lib\\site-packages (from hyperopt) (4.42.1)\n",
      "Requirement already satisfied: scipy in c:\\users\\vikee\\anaconda3\\lib\\site-packages (from hyperopt) (1.4.1)\n",
      "Requirement already satisfied: future in c:\\users\\vikee\\anaconda3\\lib\\site-packages (from hyperopt) (0.18.2)\n",
      "Requirement already satisfied: six in c:\\users\\vikee\\anaconda3\\lib\\site-packages (from hyperopt) (1.14.0)\n",
      "Requirement already satisfied: numpy in c:\\users\\vikee\\anaconda3\\lib\\site-packages (from hyperopt) (1.18.5)\n",
      "Requirement already satisfied: networkx>=2.2 in c:\\users\\vikee\\anaconda3\\lib\\site-packages (from hyperopt) (2.4)\n",
      "Requirement already satisfied: cloudpickle in c:\\users\\vikee\\anaconda3\\lib\\site-packages (from hyperopt) (1.3.0)\n",
      "Requirement already satisfied: decorator>=4.3.0 in c:\\users\\vikee\\anaconda3\\lib\\site-packages (from networkx>=2.2->hyperopt) (4.4.1)\n",
      "Note: you may need to restart the kernel to use updated packages.\n"
     ]
    }
   ],
   "source": [
    "pip install hyperopt"
   ]
  },
  {
   "cell_type": "markdown",
   "metadata": {},
   "source": [
    "First we define the domain space.similar to param grid in random search and grid search where we define the values for the parameters.Here hp.choice takes one among those values, hp.quniform selects the integer values ex it takes 10 numbers between 10 and 1200. Hp.uniform selects the float values.we give the values as list.\n",
    "\n",
    "Define the objective function and to access the parameter values, use space [‘criterion’]. Inside this define the model and the cros val score.\n",
    "\n",
    "\n",
    "Call the Trials and the fmin function minimizes the function value. It takes many parameters. The objective function, space, algorithm is tpe imported from hyperopt and tye.suggest is the algorithm to be used, max eval is the nuber of evaluations and the trails.\n",
    "\n",
    "\n",
    "\n",
    "The best values are returned in form of intergers. To get the values, we do the mapping to respective values.\n",
    "\n",
    "If we just write best[‘criterion’] we get the 1. To we need mapping to return ‘gini’\n",
    "\n",
    "Provide these best values to the random forest to get best accuracy.so use mapping here as crit [ best ['criterion']] instead of just best['criterion'] \n",
    "\n"
   ]
  },
  {
   "cell_type": "code",
   "execution_count": 15,
   "metadata": {},
   "outputs": [],
   "source": [
    "from hyperopt import hp,fmin,tpe,STATUS_OK,Trials"
   ]
  },
  {
   "cell_type": "code",
   "execution_count": 16,
   "metadata": {},
   "outputs": [],
   "source": [
    "space = {'criterion': hp.choice('criterion', ['entropy', 'gini']),\n",
    "        'max_depth': hp.quniform('max_depth', 10, 1200, 10),\n",
    "        'max_features': hp.choice('max_features', ['auto', 'sqrt','log2', None]),\n",
    "        'min_samples_leaf': hp.uniform('min_samples_leaf', 0, 0.5),\n",
    "        'min_samples_split' : hp.uniform ('min_samples_split', 0, 1),\n",
    "        'n_estimators' : hp.choice('n_estimators', [10, 50, 300, 750, 1200,1300,1500])\n",
    "    }"
   ]
  },
  {
   "cell_type": "code",
   "execution_count": 17,
   "metadata": {},
   "outputs": [],
   "source": [
    "def objective(space):\n",
    "    model = RandomForestClassifier(criterion = space['criterion'], max_depth = space['max_depth'],\n",
    "                                 max_features = space['max_features'],\n",
    "                                 min_samples_leaf = space['min_samples_leaf'],\n",
    "                                 min_samples_split = space['min_samples_split'],\n",
    "                                 n_estimators = space['n_estimators'], \n",
    "                                 )\n",
    "    \n",
    "    accuracy = cross_val_score(model, X_train, y_train, cv = 5).mean()\n",
    "\n",
    "    # We aim to maximize accuracy, therefore we return it as a negative value\n",
    "    return {'loss': -accuracy, 'status': STATUS_OK }"
   ]
  },
  {
   "cell_type": "code",
   "execution_count": 18,
   "metadata": {},
   "outputs": [
    {
     "name": "stdout",
     "output_type": "stream",
     "text": [
      "100%|███████████████████████████████████████████████| 80/80 [14:26<00:00, 10.83s/trial, best loss: -0.7605890976942556]\n"
     ]
    },
    {
     "data": {
      "text/plain": [
       "{'criterion': 1,\n",
       " 'max_depth': 700.0,\n",
       " 'max_features': 3,\n",
       " 'min_samples_leaf': 0.07420789936287814,\n",
       " 'min_samples_split': 0.08919110954462761,\n",
       " 'n_estimators': 4}"
      ]
     },
     "execution_count": 18,
     "metadata": {},
     "output_type": "execute_result"
    }
   ],
   "source": [
    "from sklearn.model_selection import cross_val_score\n",
    "trials = Trials()\n",
    "best = fmin(fn= objective,\n",
    "            space= space,\n",
    "            algo= tpe.suggest,\n",
    "            max_evals = 80,\n",
    "            trials= trials)\n",
    "best"
   ]
  },
  {
   "cell_type": "code",
   "execution_count": 19,
   "metadata": {},
   "outputs": [
    {
     "name": "stdout",
     "output_type": "stream",
     "text": [
      "gini\n",
      "None\n",
      "1200\n"
     ]
    }
   ],
   "source": [
    "crit = {0: 'entropy', 1: 'gini'}\n",
    "feat = {0: 'auto', 1: 'sqrt', 2: 'log2', 3: None}\n",
    "est = {0: 10, 1: 50, 2: 300, 3: 750, 4: 1200,5:1300,6:1500}\n",
    "\n",
    "\n",
    "print(crit[best['criterion']])\n",
    "print(feat[best['max_features']])\n",
    "print(est[best['n_estimators']])"
   ]
  },
  {
   "cell_type": "code",
   "execution_count": 20,
   "metadata": {},
   "outputs": [
    {
     "name": "stdout",
     "output_type": "stream",
     "text": [
      "[[96 11]\n",
      " [23 24]]\n",
      "0.7792207792207793\n",
      "              precision    recall  f1-score   support\n",
      "\n",
      "    negative       0.81      0.90      0.85       107\n",
      "    positive       0.69      0.51      0.59        47\n",
      "\n",
      "    accuracy                           0.78       154\n",
      "   macro avg       0.75      0.70      0.72       154\n",
      "weighted avg       0.77      0.78      0.77       154\n",
      "\n"
     ]
    }
   ],
   "source": [
    "trainedforest = RandomForestClassifier(criterion = crit[best['criterion']], max_depth = best['max_depth'], \n",
    "                                       max_features = feat[best['max_features']], \n",
    "                                       min_samples_leaf = best['min_samples_leaf'], \n",
    "                                       min_samples_split = best['min_samples_split'], \n",
    "                                       n_estimators = est[best['n_estimators']]).fit(X_train,y_train)\n",
    "predictionforest = trainedforest.predict(X_test)\n",
    "print(confusion_matrix(y_test,predictionforest))\n",
    "print(accuracy_score(y_test,predictionforest))\n",
    "print(classification_report(y_test,predictionforest))\n",
    "acc5 = accuracy_score(y_test,predictionforest)"
   ]
  },
  {
   "cell_type": "markdown",
   "metadata": {},
   "source": [
    "# Optuna"
   ]
  },
  {
   "cell_type": "markdown",
   "metadata": {},
   "source": [
    "Optuna is Automate Hyperparameter Tuning method.\n",
    "\n",
    " \n",
    "\n",
    "Objective function – function that applies all hyper parameter tuning\n",
    "\n",
    "Create_study- creates space where training occurs and maximizes the accuracy."
   ]
  },
  {
   "cell_type": "code",
   "execution_count": 21,
   "metadata": {},
   "outputs": [
    {
     "name": "stdout",
     "output_type": "stream",
     "text": [
      "Collecting optuna\n",
      "  Downloading optuna-2.1.0.tar.gz (232 kB)\n",
      "  Installing build dependencies: started\n",
      "  Installing build dependencies: finished with status 'done'\n",
      "  Getting requirements to build wheel: started\n",
      "  Getting requirements to build wheel: finished with status 'done'\n",
      "    Preparing wheel metadata: started\n",
      "    Preparing wheel metadata: finished with status 'done'\n",
      "Collecting alembic\n",
      "  Downloading alembic-1.4.3-py2.py3-none-any.whl (159 kB)\n",
      "Requirement already satisfied: joblib in c:\\users\\vikee\\anaconda3\\lib\\site-packages (from optuna) (0.14.1)\n",
      "Requirement already satisfied: packaging>=20.0 in c:\\users\\vikee\\anaconda3\\lib\\site-packages (from optuna) (20.1)\n",
      "Collecting cliff\n",
      "  Downloading cliff-3.4.0-py3-none-any.whl (76 kB)\n",
      "Requirement already satisfied: numpy in c:\\users\\vikee\\anaconda3\\lib\\site-packages (from optuna) (1.18.5)\n",
      "Requirement already satisfied: sqlalchemy>=1.1.0 in c:\\users\\vikee\\anaconda3\\lib\\site-packages (from optuna) (1.3.13)\n",
      "Requirement already satisfied: tqdm in c:\\users\\vikee\\anaconda3\\lib\\site-packages (from optuna) (4.49.0)\n",
      "Collecting colorlog\n",
      "  Downloading colorlog-4.2.1-py2.py3-none-any.whl (14 kB)\n",
      "Collecting cmaes>=0.6.0\n",
      "  Downloading cmaes-0.6.1-py3-none-any.whl (9.7 kB)\n",
      "Requirement already satisfied: scipy!=1.4.0 in c:\\users\\vikee\\anaconda3\\lib\\site-packages (from optuna) (1.4.1)\n",
      "Collecting Mako\n",
      "  Downloading Mako-1.1.3-py2.py3-none-any.whl (75 kB)\n",
      "Collecting python-editor>=0.3\n",
      "  Downloading python_editor-1.0.4-py3-none-any.whl (4.9 kB)\n",
      "Requirement already satisfied: python-dateutil in c:\\users\\vikee\\anaconda3\\lib\\site-packages (from alembic->optuna) (2.8.1)\n",
      "Requirement already satisfied: six in c:\\users\\vikee\\anaconda3\\lib\\site-packages (from packaging>=20.0->optuna) (1.14.0)\n",
      "Requirement already satisfied: pyparsing>=2.0.2 in c:\\users\\vikee\\anaconda3\\lib\\site-packages (from packaging>=20.0->optuna) (2.4.6)\n",
      "Collecting pbr!=2.1.0,>=2.0.0\n",
      "  Downloading pbr-5.5.0-py2.py3-none-any.whl (106 kB)\n",
      "Requirement already satisfied: PyYAML>=3.12 in c:\\users\\vikee\\anaconda3\\lib\\site-packages (from cliff->optuna) (5.3)\n",
      "Collecting cmd2!=0.8.3,>=0.8.0\n",
      "  Downloading cmd2-1.3.10-py3-none-any.whl (132 kB)\n",
      "Collecting PrettyTable<0.8,>=0.7.2\n",
      "  Downloading prettytable-0.7.2.tar.bz2 (21 kB)\n",
      "Collecting stevedore>=2.0.1\n",
      "  Downloading stevedore-3.2.2-py3-none-any.whl (42 kB)\n",
      "Requirement already satisfied: colorama; sys_platform == \"win32\" in c:\\users\\vikee\\anaconda3\\lib\\site-packages (from colorlog->optuna) (0.4.3)\n",
      "Requirement already satisfied: MarkupSafe>=0.9.2 in c:\\users\\vikee\\anaconda3\\lib\\site-packages (from Mako->alembic->optuna) (1.1.1)\n",
      "Collecting importlib-metadata>=1.6.0; python_version < \"3.8\"\n",
      "  Downloading importlib_metadata-2.0.0-py2.py3-none-any.whl (31 kB)\n",
      "Requirement already satisfied: setuptools>=34.4 in c:\\users\\vikee\\anaconda3\\lib\\site-packages (from cmd2!=0.8.3,>=0.8.0->cliff->optuna) (45.2.0.post20200210)\n",
      "Requirement already satisfied: pyreadline; sys_platform == \"win32\" in c:\\users\\vikee\\anaconda3\\lib\\site-packages (from cmd2!=0.8.3,>=0.8.0->cliff->optuna) (2.1)\n",
      "Requirement already satisfied: attrs>=16.3.0 in c:\\users\\vikee\\anaconda3\\lib\\site-packages (from cmd2!=0.8.3,>=0.8.0->cliff->optuna) (19.3.0)\n",
      "Collecting pyperclip>=1.6\n",
      "  Downloading pyperclip-1.8.0.tar.gz (16 kB)\n",
      "Requirement already satisfied: wcwidth>=0.1.7 in c:\\users\\vikee\\anaconda3\\lib\\site-packages (from cmd2!=0.8.3,>=0.8.0->cliff->optuna) (0.1.8)\n",
      "Requirement already satisfied: zipp>=0.5 in c:\\users\\vikee\\anaconda3\\lib\\site-packages (from importlib-metadata>=1.6.0; python_version < \"3.8\"->cmd2!=0.8.3,>=0.8.0->cliff->optuna) (2.2.0)\n",
      "Building wheels for collected packages: optuna, PrettyTable, pyperclip\n",
      "  Building wheel for optuna (PEP 517): started\n",
      "  Building wheel for optuna (PEP 517): finished with status 'done'\n",
      "  Created wheel for optuna: filename=optuna-2.1.0-py3-none-any.whl size=321096 sha256=71f542d62ea7097d4daba5e89b7a538ea6a9e8f50c2b761b7d70c3dfd940bef5\n",
      "  Stored in directory: c:\\users\\vikee\\appdata\\local\\pip\\cache\\wheels\\0b\\c1\\80\\46e0d852b151dbef73fdf355da10e1cd51a4dd9f46494bc06b\n",
      "  Building wheel for PrettyTable (setup.py): started\n",
      "  Building wheel for PrettyTable (setup.py): finished with status 'done'\n",
      "  Created wheel for PrettyTable: filename=prettytable-0.7.2-py3-none-any.whl size=13704 sha256=389f137d1ed10bc976530dba06b97f57312ed4f9f3fe0665f30e22a8db4ab0a8\n",
      "  Stored in directory: c:\\users\\vikee\\appdata\\local\\pip\\cache\\wheels\\8c\\76\\0b\\eb9eb3da7e2335e3577e3f96a0ae9f74f206e26457bd1a2bc8\n",
      "  Building wheel for pyperclip (setup.py): started\n",
      "  Building wheel for pyperclip (setup.py): finished with status 'done'\n",
      "  Created wheel for pyperclip: filename=pyperclip-1.8.0-py3-none-any.whl size=8696 sha256=3f7bebcc860a768245a211013981805a31ee7a2cc07680d1c9334e72e4680253\n",
      "  Stored in directory: c:\\users\\vikee\\appdata\\local\\pip\\cache\\wheels\\e5\\5e\\f7\\441179ddf6ac56f36cb1d84d94f35beedd5da15986ce3d321d\n",
      "Successfully built optuna PrettyTable pyperclip\n",
      "Installing collected packages: Mako, python-editor, alembic, pbr, importlib-metadata, pyperclip, cmd2, PrettyTable, stevedore, cliff, colorlog, cmaes, optuna\n",
      "  Attempting uninstall: importlib-metadata\n",
      "    Found existing installation: importlib-metadata 1.5.0\n",
      "    Uninstalling importlib-metadata-1.5.0:\n",
      "      Successfully uninstalled importlib-metadata-1.5.0\n",
      "Successfully installed Mako-1.1.3 PrettyTable-0.7.2 alembic-1.4.3 cliff-3.4.0 cmaes-0.6.1 cmd2-1.3.10 colorlog-4.2.1 importlib-metadata-2.0.0 optuna-2.1.0 pbr-5.5.0 pyperclip-1.8.0 python-editor-1.0.4 stevedore-3.2.2\n",
      "Note: you may need to restart the kernel to use updated packages.\n"
     ]
    },
    {
     "name": "stderr",
     "output_type": "stream",
     "text": [
      "ERROR: pytest-astropy 0.8.0 requires pytest-cov>=2.0, which is not installed.\n",
      "ERROR: pytest-astropy 0.8.0 requires pytest-filter-subpackage>=0.1, which is not installed.\n"
     ]
    }
   ],
   "source": [
    "pip install optuna"
   ]
  },
  {
   "cell_type": "code",
   "execution_count": 22,
   "metadata": {},
   "outputs": [],
   "source": [
    "import optuna\n",
    "import sklearn.svm\n",
    "def objective(trial):\n",
    "\n",
    "    classifier = trial.suggest_categorical('classifier', ['RandomForest', 'SVC'])\n",
    "    \n",
    "    if classifier == 'RandomForest':\n",
    "        n_estimators = trial.suggest_int('n_estimators', 200, 2000,10)\n",
    "        max_depth = int(trial.suggest_float('max_depth', 10, 100, log=True))\n",
    "\n",
    "        clf = sklearn.ensemble.RandomForestClassifier(\n",
    "            n_estimators=n_estimators, max_depth=max_depth)\n",
    "    else:\n",
    "        c = trial.suggest_float('svc_c', 1e-10, 1e10, log=True)\n",
    "        \n",
    "        clf = sklearn.svm.SVC(C=c, gamma='auto')\n",
    "\n",
    "    return sklearn.model_selection.cross_val_score(\n",
    "        clf,X_train,y_train, n_jobs=-1, cv=3).mean()"
   ]
  },
  {
   "cell_type": "code",
   "execution_count": 23,
   "metadata": {},
   "outputs": [
    {
     "name": "stderr",
     "output_type": "stream",
     "text": [
      "[I 2020-09-26 22:25:52,815] A new study created in memory with name: no-name-10274797-c463-4710-8412-fd37c6058888\n",
      "[I 2020-09-26 22:25:55,610] Trial 0 finished with value: 0.640068547744301 and parameters: {'classifier': 'SVC', 'svc_c': 2615185.238753893}. Best is trial 0 with value: 0.640068547744301.\n",
      "[I 2020-09-26 22:25:58,578] Trial 1 finished with value: 0.728024868483979 and parameters: {'classifier': 'RandomForest', 'n_estimators': 500, 'max_depth': 29.626733345352875}. Best is trial 1 with value: 0.728024868483979.\n",
      "[I 2020-09-26 22:25:58,635] Trial 2 finished with value: 0.640068547744301 and parameters: {'classifier': 'SVC', 'svc_c': 0.001498297110918989}. Best is trial 1 with value: 0.728024868483979.\n",
      "[I 2020-09-26 22:25:58,684] Trial 3 finished with value: 0.640068547744301 and parameters: {'classifier': 'SVC', 'svc_c': 7.0030105219297375e-09}. Best is trial 1 with value: 0.728024868483979.\n",
      "[I 2020-09-26 22:25:58,739] Trial 4 finished with value: 0.640068547744301 and parameters: {'classifier': 'SVC', 'svc_c': 2.8357579655237305e-08}. Best is trial 1 with value: 0.728024868483979.\n",
      "[I 2020-09-26 22:26:06,666] Trial 5 finished with value: 0.7329029172644668 and parameters: {'classifier': 'RandomForest', 'n_estimators': 1980, 'max_depth': 10.443840115652025}. Best is trial 5 with value: 0.7329029172644668.\n",
      "[I 2020-09-26 22:26:09,232] Trial 6 finished with value: 0.736154949784792 and parameters: {'classifier': 'RandomForest', 'n_estimators': 650, 'max_depth': 68.78673243535056}. Best is trial 6 with value: 0.736154949784792.\n",
      "[I 2020-09-26 22:26:13,305] Trial 7 finished with value: 0.7296588554120835 and parameters: {'classifier': 'RandomForest', 'n_estimators': 1020, 'max_depth': 36.545898514599074}. Best is trial 6 with value: 0.736154949784792.\n",
      "[I 2020-09-26 22:26:20,014] Trial 8 finished with value: 0.7296588554120835 and parameters: {'classifier': 'RandomForest', 'n_estimators': 1940, 'max_depth': 11.265644139047819}. Best is trial 6 with value: 0.736154949784792.\n",
      "[I 2020-09-26 22:26:21,522] Trial 9 finished with value: 0.7247568946277698 and parameters: {'classifier': 'RandomForest', 'n_estimators': 390, 'max_depth': 81.86581329248206}. Best is trial 6 with value: 0.736154949784792.\n",
      "[I 2020-09-26 22:26:24,960] Trial 10 finished with value: 0.7329108879324088 and parameters: {'classifier': 'RandomForest', 'n_estimators': 940, 'max_depth': 99.5940923537957}. Best is trial 6 with value: 0.736154949784792.\n",
      "[I 2020-09-26 22:26:28,399] Trial 11 finished with value: 0.7312769010043042 and parameters: {'classifier': 'RandomForest', 'n_estimators': 980, 'max_depth': 98.246727372855}. Best is trial 6 with value: 0.736154949784792.\n",
      "[I 2020-09-26 22:26:30,910] Trial 12 finished with value: 0.7328949465965248 and parameters: {'classifier': 'RandomForest', 'n_estimators': 730, 'max_depth': 61.01690725198887}. Best is trial 6 with value: 0.736154949784792.\n",
      "[I 2020-09-26 22:26:36,049] Trial 13 finished with value: 0.7328949465965248 and parameters: {'classifier': 'RandomForest', 'n_estimators': 1380, 'max_depth': 51.42278070389797}. Best is trial 6 with value: 0.736154949784792.\n",
      "[I 2020-09-26 22:26:41,211] Trial 14 finished with value: 0.7312769010043042 and parameters: {'classifier': 'RandomForest', 'n_estimators': 1490, 'max_depth': 98.80241672584836}. Best is trial 6 with value: 0.736154949784792.\n",
      "[I 2020-09-26 22:26:43,714] Trial 15 finished with value: 0.7345369041925713 and parameters: {'classifier': 'RandomForest', 'n_estimators': 720, 'max_depth': 63.380935491539304}. Best is trial 6 with value: 0.736154949784792.\n",
      "[I 2020-09-26 22:26:45,873] Trial 16 finished with value: 0.7296508847441415 and parameters: {'classifier': 'RandomForest', 'n_estimators': 620, 'max_depth': 26.71947658357857}. Best is trial 6 with value: 0.736154949784792.\n",
      "[I 2020-09-26 22:26:46,720] Trial 17 finished with value: 0.7377889367128966 and parameters: {'classifier': 'RandomForest', 'n_estimators': 220, 'max_depth': 57.94532777494472}. Best is trial 17 with value: 0.7377889367128966.\n",
      "[I 2020-09-26 22:26:47,527] Trial 18 finished with value: 0.7345289335246293 and parameters: {'classifier': 'RandomForest', 'n_estimators': 210, 'max_depth': 44.36974290268383}. Best is trial 17 with value: 0.7377889367128966.\n",
      "[I 2020-09-26 22:26:48,517] Trial 19 finished with value: 0.7377729953770126 and parameters: {'classifier': 'RandomForest', 'n_estimators': 270, 'max_depth': 21.937683750850674}. Best is trial 17 with value: 0.7377889367128966.\n",
      "[I 2020-09-26 22:26:49,358] Trial 20 finished with value: 0.7296349434082576 and parameters: {'classifier': 'RandomForest', 'n_estimators': 230, 'max_depth': 19.67556572801358}. Best is trial 17 with value: 0.7377889367128966.\n",
      "[I 2020-09-26 22:26:50,156] Trial 21 finished with value: 0.7345289335246293 and parameters: {'classifier': 'RandomForest', 'n_estimators': 220, 'max_depth': 19.18451356707039}. Best is trial 17 with value: 0.7377889367128966.\n",
      "[I 2020-09-26 22:26:51,549] Trial 22 finished with value: 0.7280408098198629 and parameters: {'classifier': 'RandomForest', 'n_estimators': 380, 'max_depth': 19.50255058474796}. Best is trial 17 with value: 0.7377889367128966.\n",
      "[I 2020-09-26 22:26:53,307] Trial 23 finished with value: 0.7312769010043042 and parameters: {'classifier': 'RandomForest', 'n_estimators': 480, 'max_depth': 73.22402020939599}. Best is trial 17 with value: 0.7377889367128966.\n",
      "[I 2020-09-26 22:26:54,331] Trial 24 finished with value: 0.7328869759285829 and parameters: {'classifier': 'RandomForest', 'n_estimators': 240, 'max_depth': 15.333816375738586}. Best is trial 17 with value: 0.7377889367128966.\n",
      "[I 2020-09-26 22:26:56,592] Trial 25 finished with value: 0.7247728359636537 and parameters: {'classifier': 'RandomForest', 'n_estimators': 620, 'max_depth': 42.18272187125838}. Best is trial 17 with value: 0.7377889367128966.\n",
      "[I 2020-09-26 22:26:59,555] Trial 26 finished with value: 0.7296588554120835 and parameters: {'classifier': 'RandomForest', 'n_estimators': 840, 'max_depth': 24.895459190730055}. Best is trial 17 with value: 0.7377889367128966.\n",
      "[I 2020-09-26 22:26:59,628] Trial 27 finished with value: 0.640068547744301 and parameters: {'classifier': 'SVC', 'svc_c': 3963.1138498605123}. Best is trial 17 with value: 0.7377889367128966.\n",
      "[I 2020-09-26 22:27:03,967] Trial 28 finished with value: 0.7296508847441415 and parameters: {'classifier': 'RandomForest', 'n_estimators': 1270, 'max_depth': 53.83103593268071}. Best is trial 17 with value: 0.7377889367128966.\n",
      "[I 2020-09-26 22:27:04,035] Trial 29 finished with value: 0.640068547744301 and parameters: {'classifier': 'SVC', 'svc_c': 0.6294910110895552}. Best is trial 17 with value: 0.7377889367128966.\n",
      "[I 2020-09-26 22:27:05,432] Trial 30 finished with value: 0.7377650247090707 and parameters: {'classifier': 'RandomForest', 'n_estimators': 400, 'max_depth': 76.99537473814496}. Best is trial 17 with value: 0.7377889367128966.\n",
      "[I 2020-09-26 22:27:06,824] Trial 31 finished with value: 0.7312689303363622 and parameters: {'classifier': 'RandomForest', 'n_estimators': 370, 'max_depth': 67.80391158339135}. Best is trial 17 with value: 0.7377889367128966.\n",
      "[I 2020-09-26 22:27:08,851] Trial 32 finished with value: 0.7377650247090707 and parameters: {'classifier': 'RandomForest', 'n_estimators': 520, 'max_depth': 80.836300310919}. Best is trial 17 with value: 0.7377889367128966.\n",
      "[I 2020-09-26 22:27:10,251] Trial 33 finished with value: 0.7328949465965248 and parameters: {'classifier': 'RandomForest', 'n_estimators': 340, 'max_depth': 81.82802882676513}. Best is trial 17 with value: 0.7377889367128966.\n",
      "[I 2020-09-26 22:27:12,250] Trial 34 finished with value: 0.7345448748605133 and parameters: {'classifier': 'RandomForest', 'n_estimators': 510, 'max_depth': 86.13882134514373}. Best is trial 17 with value: 0.7377889367128966.\n",
      "[I 2020-09-26 22:27:12,328] Trial 35 finished with value: 0.640068547744301 and parameters: {'classifier': 'SVC', 'svc_c': 265497329.0223428}. Best is trial 17 with value: 0.7377889367128966.\n"
     ]
    },
    {
     "name": "stderr",
     "output_type": "stream",
     "text": [
      "[I 2020-09-26 22:27:13,254] Trial 36 finished with value: 0.7394069823051171 and parameters: {'classifier': 'RandomForest', 'n_estimators': 220, 'max_depth': 35.906656061492335}. Best is trial 36 with value: 0.7394069823051171.\n",
      "[I 2020-09-26 22:27:14,013] Trial 37 finished with value: 0.7312848716722461 and parameters: {'classifier': 'RandomForest', 'n_estimators': 200, 'max_depth': 34.10913635138121}. Best is trial 36 with value: 0.7394069823051171.\n",
      "[I 2020-09-26 22:27:14,072] Trial 38 finished with value: 0.640068547744301 and parameters: {'classifier': 'SVC', 'svc_c': 8.136867552771699e-05}. Best is trial 36 with value: 0.7394069823051171.\n",
      "[I 2020-09-26 22:27:15,988] Trial 39 finished with value: 0.7280408098198629 and parameters: {'classifier': 'RandomForest', 'n_estimators': 500, 'max_depth': 32.068557515566496}. Best is trial 36 with value: 0.7394069823051171.\n",
      "[I 2020-09-26 22:27:17,203] Trial 40 finished with value: 0.7329029172644668 and parameters: {'classifier': 'RandomForest', 'n_estimators': 320, 'max_depth': 22.507225666318053}. Best is trial 36 with value: 0.7394069823051171.\n",
      "[I 2020-09-26 22:27:18,747] Trial 41 finished with value: 0.7296508847441415 and parameters: {'classifier': 'RandomForest', 'n_estimators': 440, 'max_depth': 54.35427212769926}. Best is trial 36 with value: 0.7394069823051171.\n",
      "[I 2020-09-26 22:27:19,792] Trial 42 finished with value: 0.7377889367128966 and parameters: {'classifier': 'RandomForest', 'n_estimators': 300, 'max_depth': 41.174572955715256}. Best is trial 36 with value: 0.7394069823051171.\n",
      "[I 2020-09-26 22:27:20,906] Trial 43 finished with value: 0.7312689303363622 and parameters: {'classifier': 'RandomForest', 'n_estimators': 290, 'max_depth': 38.39389790459501}. Best is trial 36 with value: 0.7394069823051171.\n",
      "[I 2020-09-26 22:27:22,070] Trial 44 finished with value: 0.7377969073808385 and parameters: {'classifier': 'RandomForest', 'n_estimators': 300, 'max_depth': 44.975574511087835}. Best is trial 36 with value: 0.7394069823051171.\n",
      "[I 2020-09-26 22:27:28,130] Trial 45 finished with value: 0.7361629204527339 and parameters: {'classifier': 'RandomForest', 'n_estimators': 1690, 'max_depth': 43.67300526977855}. Best is trial 36 with value: 0.7394069823051171.\n",
      "[I 2020-09-26 22:27:29,135] Trial 46 finished with value: 0.7296190020723737 and parameters: {'classifier': 'RandomForest', 'n_estimators': 270, 'max_depth': 27.644437036920863}. Best is trial 36 with value: 0.7394069823051171.\n",
      "[I 2020-09-26 22:27:29,857] Trial 47 finished with value: 0.7345528455284552 and parameters: {'classifier': 'RandomForest', 'n_estimators': 200, 'max_depth': 48.67729078330837}. Best is trial 36 with value: 0.7394069823051171.\n",
      "[I 2020-09-26 22:27:31,863] Trial 48 finished with value: 0.7247568946277698 and parameters: {'classifier': 'RandomForest', 'n_estimators': 560, 'max_depth': 35.51964804352363}. Best is trial 36 with value: 0.7394069823051171.\n",
      "[I 2020-09-26 22:27:33,050] Trial 49 finished with value: 0.7312848716722461 and parameters: {'classifier': 'RandomForest', 'n_estimators': 330, 'max_depth': 30.41636194055499}. Best is trial 36 with value: 0.7394069823051171.\n",
      "[I 2020-09-26 22:27:36,889] Trial 50 finished with value: 0.7264068228917583 and parameters: {'classifier': 'RandomForest', 'n_estimators': 1110, 'max_depth': 39.101663888957994}. Best is trial 36 with value: 0.7394069823051171.\n",
      "[I 2020-09-26 22:27:38,329] Trial 51 finished with value: 0.7312689303363622 and parameters: {'classifier': 'RandomForest', 'n_estimators': 410, 'max_depth': 48.024059402761964}. Best is trial 36 with value: 0.7394069823051171.\n",
      "[I 2020-09-26 22:27:39,815] Trial 52 finished with value: 0.7459190180137095 and parameters: {'classifier': 'RandomForest', 'n_estimators': 420, 'max_depth': 59.33230858257117}. Best is trial 52 with value: 0.7459190180137095.\n",
      "[I 2020-09-26 22:27:40,541] Trial 53 finished with value: 0.7214968914395027 and parameters: {'classifier': 'RandomForest', 'n_estimators': 200, 'max_depth': 59.59836900525241}. Best is trial 52 with value: 0.7459190180137095.\n",
      "[I 2020-09-26 22:27:41,516] Trial 54 finished with value: 0.736154949784792 and parameters: {'classifier': 'RandomForest', 'n_estimators': 260, 'max_depth': 56.643932245274875}. Best is trial 52 with value: 0.7459190180137095.\n",
      "[I 2020-09-26 22:27:44,323] Trial 55 finished with value: 0.728032839151921 and parameters: {'classifier': 'RandomForest', 'n_estimators': 750, 'max_depth': 47.65548063466238}. Best is trial 52 with value: 0.7459190180137095.\n",
      "[I 2020-09-26 22:27:45,593] Trial 56 finished with value: 0.7328949465965248 and parameters: {'classifier': 'RandomForest', 'n_estimators': 310, 'max_depth': 41.35914346165749}. Best is trial 52 with value: 0.7459190180137095.\n",
      "[I 2020-09-26 22:27:47,196] Trial 57 finished with value: 0.728024868483979 and parameters: {'classifier': 'RandomForest', 'n_estimators': 430, 'max_depth': 13.828856652182992}. Best is trial 52 with value: 0.7459190180137095.\n",
      "[I 2020-09-26 22:27:49,214] Trial 58 finished with value: 0.7329188586003507 and parameters: {'classifier': 'RandomForest', 'n_estimators': 580, 'max_depth': 33.28504372901439}. Best is trial 52 with value: 0.7459190180137095.\n",
      "[I 2020-09-26 22:27:50,449] Trial 59 finished with value: 0.7312769010043042 and parameters: {'classifier': 'RandomForest', 'n_estimators': 350, 'max_depth': 65.4181096245936}. Best is trial 52 with value: 0.7459190180137095.\n",
      "[I 2020-09-26 22:27:52,133] Trial 60 finished with value: 0.7247648652957118 and parameters: {'classifier': 'RandomForest', 'n_estimators': 460, 'max_depth': 46.77681688629714}. Best is trial 52 with value: 0.7459190180137095.\n",
      "[I 2020-09-26 22:27:53,549] Trial 61 finished with value: 0.7394149529730591 and parameters: {'classifier': 'RandomForest', 'n_estimators': 400, 'max_depth': 72.16516486735787}. Best is trial 52 with value: 0.7459190180137095.\n",
      "[I 2020-09-26 22:27:56,324] Trial 62 finished with value: 0.728032839151921 and parameters: {'classifier': 'RandomForest', 'n_estimators': 690, 'max_depth': 60.859456011969414}. Best is trial 52 with value: 0.7459190180137095.\n",
      "[I 2020-09-26 22:27:57,483] Trial 63 finished with value: 0.7394069823051171 and parameters: {'classifier': 'RandomForest', 'n_estimators': 270, 'max_depth': 90.30379069350757}. Best is trial 52 with value: 0.7459190180137095.\n",
      "[I 2020-09-26 22:27:58,363] Trial 64 finished with value: 0.719886816515224 and parameters: {'classifier': 'RandomForest', 'n_estimators': 200, 'max_depth': 89.52954969575084}. Best is trial 52 with value: 0.7459190180137095.\n",
      "[I 2020-09-26 22:27:59,478] Trial 65 finished with value: 0.7377729953770126 and parameters: {'classifier': 'RandomForest', 'n_estimators': 290, 'max_depth': 70.19744626947738}. Best is trial 52 with value: 0.7459190180137095.\n",
      "[I 2020-09-26 22:28:00,963] Trial 66 finished with value: 0.7459190180137095 and parameters: {'classifier': 'RandomForest', 'n_estimators': 400, 'max_depth': 95.1690273465542}. Best is trial 52 with value: 0.7459190180137095.\n",
      "[I 2020-09-26 22:28:01,039] Trial 67 finished with value: 0.640068547744301 and parameters: {'classifier': 'SVC', 'svc_c': 6050.306913316341}. Best is trial 52 with value: 0.7459190180137095.\n",
      "[I 2020-09-26 22:28:03,288] Trial 68 finished with value: 0.7296429140761996 and parameters: {'classifier': 'RandomForest', 'n_estimators': 560, 'max_depth': 96.18923284614931}. Best is trial 52 with value: 0.7459190180137095.\n",
      "[I 2020-09-26 22:28:04,749] Trial 69 finished with value: 0.7377729953770126 and parameters: {'classifier': 'RandomForest', 'n_estimators': 400, 'max_depth': 91.06180761948212}. Best is trial 52 with value: 0.7459190180137095.\n",
      "[I 2020-09-26 22:28:07,066] Trial 70 finished with value: 0.7329108879324088 and parameters: {'classifier': 'RandomForest', 'n_estimators': 640, 'max_depth': 75.38515527868933}. Best is trial 52 with value: 0.7459190180137095.\n",
      "[I 2020-09-26 22:28:08,402] Trial 71 finished with value: 0.73614697911685 and parameters: {'classifier': 'RandomForest', 'n_estimators': 370, 'max_depth': 51.2482640060396}. Best is trial 52 with value: 0.7459190180137095.\n"
     ]
    },
    {
     "name": "stderr",
     "output_type": "stream",
     "text": [
      "[I 2020-09-26 22:28:09,375] Trial 72 finished with value: 0.7312689303363622 and parameters: {'classifier': 'RandomForest', 'n_estimators': 260, 'max_depth': 38.486181117537846}. Best is trial 52 with value: 0.7459190180137095.\n",
      "[I 2020-09-26 22:28:10,961] Trial 73 finished with value: 0.7345289335246293 and parameters: {'classifier': 'RandomForest', 'n_estimators': 450, 'max_depth': 69.20163289340071}. Best is trial 52 with value: 0.7459190180137095.\n",
      "[I 2020-09-26 22:28:11,762] Trial 74 finished with value: 0.7345448748605133 and parameters: {'classifier': 'RandomForest', 'n_estimators': 200, 'max_depth': 58.92314193413159}. Best is trial 52 with value: 0.7459190180137095.\n",
      "[I 2020-09-26 22:28:13,034] Trial 75 finished with value: 0.7312769010043042 and parameters: {'classifier': 'RandomForest', 'n_estimators': 350, 'max_depth': 63.56685531379669}. Best is trial 52 with value: 0.7459190180137095.\n",
      "[I 2020-09-26 22:28:14,728] Trial 76 finished with value: 0.7296429140761996 and parameters: {'classifier': 'RandomForest', 'n_estimators': 480, 'max_depth': 98.8135728818805}. Best is trial 52 with value: 0.7459190180137095.\n",
      "[I 2020-09-26 22:28:15,753] Trial 77 finished with value: 0.7378048780487805 and parameters: {'classifier': 'RandomForest', 'n_estimators': 290, 'max_depth': 79.12769214828943}. Best is trial 52 with value: 0.7459190180137095.\n",
      "[I 2020-09-26 22:28:16,903] Trial 78 finished with value: 0.7263829108879324 and parameters: {'classifier': 'RandomForest', 'n_estimators': 300, 'max_depth': 78.76658830955677}. Best is trial 52 with value: 0.7459190180137095.\n",
      "[I 2020-09-26 22:28:18,805] Trial 79 finished with value: 0.7264068228917583 and parameters: {'classifier': 'RandomForest', 'n_estimators': 540, 'max_depth': 72.40147654379268}. Best is trial 52 with value: 0.7459190180137095.\n",
      "[I 2020-09-26 22:28:18,886] Trial 80 finished with value: 0.640068547744301 and parameters: {'classifier': 'SVC', 'svc_c': 9570913655.686275}. Best is trial 52 with value: 0.7459190180137095.\n",
      "[I 2020-09-26 22:28:19,771] Trial 81 finished with value: 0.7296588554120835 and parameters: {'classifier': 'RandomForest', 'n_estimators': 250, 'max_depth': 86.00126654307527}. Best is trial 52 with value: 0.7459190180137095.\n",
      "[I 2020-09-26 22:28:21,203] Trial 82 finished with value: 0.7377889367128966 and parameters: {'classifier': 'RandomForest', 'n_estimators': 390, 'max_depth': 52.66397800319593}. Best is trial 52 with value: 0.7459190180137095.\n",
      "[I 2020-09-26 22:28:22,366] Trial 83 finished with value: 0.7264068228917583 and parameters: {'classifier': 'RandomForest', 'n_estimators': 320, 'max_depth': 41.58946912226777}. Best is trial 52 with value: 0.7459190180137095.\n",
      "[I 2020-09-26 22:28:23,800] Trial 84 finished with value: 0.7312689303363622 and parameters: {'classifier': 'RandomForest', 'n_estimators': 400, 'max_depth': 51.362384555935314}. Best is trial 52 with value: 0.7459190180137095.\n",
      "[I 2020-09-26 22:28:25,423] Trial 85 finished with value: 0.7296429140761996 and parameters: {'classifier': 'RandomForest', 'n_estimators': 460, 'max_depth': 54.677821021857866}. Best is trial 52 with value: 0.7459190180137095.\n",
      "[I 2020-09-26 22:28:26,892] Trial 86 finished with value: 0.7296429140761996 and parameters: {'classifier': 'RandomForest', 'n_estimators': 390, 'max_depth': 44.10710227904822}. Best is trial 52 with value: 0.7459190180137095.\n",
      "[I 2020-09-26 22:28:27,705] Trial 87 finished with value: 0.7377809660449546 and parameters: {'classifier': 'RandomForest', 'n_estimators': 220, 'max_depth': 65.95595266475965}. Best is trial 52 with value: 0.7459190180137095.\n",
      "[I 2020-09-26 22:28:29,498] Trial 88 finished with value: 0.7296429140761996 and parameters: {'classifier': 'RandomForest', 'n_estimators': 510, 'max_depth': 35.847329513180654}. Best is trial 52 with value: 0.7459190180137095.\n",
      "[I 2020-09-26 22:28:36,225] Trial 89 finished with value: 0.7312769010043042 and parameters: {'classifier': 'RandomForest', 'n_estimators': 1830, 'max_depth': 94.15960029370987}. Best is trial 52 with value: 0.7459190180137095.\n",
      "[I 2020-09-26 22:28:37,509] Trial 90 finished with value: 0.7263829108879324 and parameters: {'classifier': 'RandomForest', 'n_estimators': 350, 'max_depth': 82.0803148676124}. Best is trial 52 with value: 0.7459190180137095.\n",
      "[I 2020-09-26 22:28:38,452] Trial 91 finished with value: 0.7296508847441415 and parameters: {'classifier': 'RandomForest', 'n_estimators': 260, 'max_depth': 56.76716508806694}. Best is trial 52 with value: 0.7459190180137095.\n",
      "[I 2020-09-26 22:28:39,770] Trial 92 finished with value: 0.7312928423401881 and parameters: {'classifier': 'RandomForest', 'n_estimators': 310, 'max_depth': 45.37862590366781}. Best is trial 52 with value: 0.7459190180137095.\n",
      "[I 2020-09-26 22:28:41,438] Trial 93 finished with value: 0.7345369041925713 and parameters: {'classifier': 'RandomForest', 'n_estimators': 420, 'max_depth': 51.552271348530525}. Best is trial 52 with value: 0.7459190180137095.\n",
      "[I 2020-09-26 22:28:42,346] Trial 94 finished with value: 0.7312848716722461 and parameters: {'classifier': 'RandomForest', 'n_estimators': 230, 'max_depth': 75.69647828866525}. Best is trial 52 with value: 0.7459190180137095.\n",
      "[I 2020-09-26 22:28:43,843] Trial 95 finished with value: 0.7247568946277698 and parameters: {'classifier': 'RandomForest', 'n_estimators': 360, 'max_depth': 62.68527654987341}. Best is trial 52 with value: 0.7459190180137095.\n",
      "[I 2020-09-26 22:28:46,172] Trial 96 finished with value: 0.7296349434082576 and parameters: {'classifier': 'RandomForest', 'n_estimators': 600, 'max_depth': 85.77992529258859}. Best is trial 52 with value: 0.7459190180137095.\n",
      "[I 2020-09-26 22:28:47,334] Trial 97 finished with value: 0.7345369041925713 and parameters: {'classifier': 'RandomForest', 'n_estimators': 300, 'max_depth': 49.786326454302944}. Best is trial 52 with value: 0.7459190180137095.\n",
      "[I 2020-09-26 22:28:51,636] Trial 98 finished with value: 0.7296588554120835 and parameters: {'classifier': 'RandomForest', 'n_estimators': 1140, 'max_depth': 41.15841578139573}. Best is trial 52 with value: 0.7459190180137095.\n",
      "[I 2020-09-26 22:28:53,503] Trial 99 finished with value: 0.736154949784792 and parameters: {'classifier': 'RandomForest', 'n_estimators': 490, 'max_depth': 57.0911464538386}. Best is trial 52 with value: 0.7459190180137095.\n"
     ]
    },
    {
     "name": "stdout",
     "output_type": "stream",
     "text": [
      "Accuracy: 0.7459190180137095\n",
      "Best hyperparameters: {'classifier': 'RandomForest', 'n_estimators': 420, 'max_depth': 59.33230858257117}\n"
     ]
    }
   ],
   "source": [
    "study = optuna.create_study(direction='maximize')\n",
    "study.optimize(objective, n_trials=100)\n",
    "\n",
    "trial = study.best_trial\n",
    "\n",
    "print('Accuracy: {}'.format(trial.value))\n",
    "print(\"Best hyperparameters: {}\".format(trial.params))"
   ]
  },
  {
   "cell_type": "code",
   "execution_count": 24,
   "metadata": {},
   "outputs": [
    {
     "data": {
      "text/plain": [
       "FrozenTrial(number=52, value=0.7459190180137095, datetime_start=datetime.datetime(2020, 9, 26, 22, 27, 38, 333142), datetime_complete=datetime.datetime(2020, 9, 26, 22, 27, 39, 815167), params={'classifier': 'RandomForest', 'n_estimators': 420, 'max_depth': 59.33230858257117}, distributions={'classifier': CategoricalDistribution(choices=('RandomForest', 'SVC')), 'n_estimators': IntUniformDistribution(high=2000, low=200, step=10), 'max_depth': LogUniformDistribution(high=100, low=10)}, user_attrs={}, system_attrs={}, intermediate_values={}, trial_id=52, state=TrialState.COMPLETE)"
      ]
     },
     "execution_count": 24,
     "metadata": {},
     "output_type": "execute_result"
    }
   ],
   "source": [
    "\n",
    "trial"
   ]
  },
  {
   "cell_type": "code",
   "execution_count": 25,
   "metadata": {},
   "outputs": [
    {
     "data": {
      "text/plain": [
       "{'classifier': 'RandomForest',\n",
       " 'n_estimators': 420,\n",
       " 'max_depth': 59.33230858257117}"
      ]
     },
     "execution_count": 25,
     "metadata": {},
     "output_type": "execute_result"
    }
   ],
   "source": [
    "study.best_params"
   ]
  },
  {
   "cell_type": "code",
   "execution_count": 26,
   "metadata": {},
   "outputs": [
    {
     "data": {
      "text/plain": [
       "RandomForestClassifier(max_depth=30, n_estimators=330)"
      ]
     },
     "execution_count": 26,
     "metadata": {},
     "output_type": "execute_result"
    }
   ],
   "source": [
    "rf=RandomForestClassifier(n_estimators=330,max_depth=30)\n",
    "rf.fit(X_train,y_train)"
   ]
  },
  {
   "cell_type": "code",
   "execution_count": 27,
   "metadata": {},
   "outputs": [
    {
     "name": "stdout",
     "output_type": "stream",
     "text": [
      "[[91 16]\n",
      " [16 31]]\n",
      "0.7922077922077922\n",
      "              precision    recall  f1-score   support\n",
      "\n",
      "    negative       0.85      0.85      0.85       107\n",
      "    positive       0.66      0.66      0.66        47\n",
      "\n",
      "    accuracy                           0.79       154\n",
      "   macro avg       0.76      0.76      0.76       154\n",
      "weighted avg       0.79      0.79      0.79       154\n",
      "\n"
     ]
    }
   ],
   "source": [
    "\n",
    "y_pred=rf.predict(X_test)\n",
    "print(confusion_matrix(y_test,y_pred))\n",
    "print(accuracy_score(y_test,y_pred))\n",
    "print(classification_report(y_test,y_pred))"
   ]
  },
  {
   "cell_type": "markdown",
   "metadata": {},
   "source": [
    "# Genetic Algorithms"
   ]
  },
  {
   "cell_type": "markdown",
   "metadata": {},
   "source": [
    "TPOTClassifier needs tensorflow to be installed.\n",
    "\n",
    "Genetic Algorithms tries to apply natural selection mechanisms to Machine Learning contexts.\n",
    "\n",
    "Lets imagine we create a population of N Machine Learning models with some predifined Hyperparameters. We can then calculate the accuracy of each model and decide to keep just half of the models (the ones that performs best). We can now generate some offsprings having similar Hyperparameters to the ones of the best models so that go get again a population of N models. At this point we can again caltulate the accuracy of each model and repeate the cycle for a defined number of generations. In this way, just the best models will survive at the end of the process."
   ]
  },
  {
   "cell_type": "code",
   "execution_count": 28,
   "metadata": {},
   "outputs": [
    {
     "name": "stdout",
     "output_type": "stream",
     "text": [
      "Collecting tpot\n",
      "  Downloading TPOT-0.11.5-py3-none-any.whl (82 kB)\n",
      "Requirement already satisfied: joblib>=0.13.2 in c:\\users\\vikee\\anaconda3\\lib\\site-packages (from tpot) (0.14.1)\n",
      "Requirement already satisfied: scikit-learn>=0.22.0 in c:\\users\\vikee\\anaconda3\\lib\\site-packages (from tpot) (0.23.1)\n",
      "Requirement already satisfied: numpy>=1.16.3 in c:\\users\\vikee\\anaconda3\\lib\\site-packages (from tpot) (1.18.5)\n",
      "Requirement already satisfied: tqdm>=4.36.1 in c:\\users\\vikee\\anaconda3\\lib\\site-packages (from tpot) (4.49.0)\n",
      "Requirement already satisfied: scipy>=1.3.1 in c:\\users\\vikee\\anaconda3\\lib\\site-packages (from tpot) (1.4.1)\n",
      "Requirement already satisfied: pandas>=0.24.2 in c:\\users\\vikee\\anaconda3\\lib\\site-packages (from tpot) (1.0.5)\n",
      "Collecting stopit>=1.1.1\n",
      "  Downloading stopit-1.1.2.tar.gz (18 kB)\n",
      "Collecting update-checker>=0.16\n",
      "  Downloading update_checker-0.18.0-py3-none-any.whl (7.0 kB)\n",
      "Collecting deap>=1.2\n",
      "  Downloading deap-1.3.1-cp37-cp37m-win_amd64.whl (108 kB)\n",
      "Requirement already satisfied: threadpoolctl>=2.0.0 in c:\\users\\vikee\\anaconda3\\lib\\site-packages (from scikit-learn>=0.22.0->tpot) (2.1.0)\n",
      "Requirement already satisfied: python-dateutil>=2.6.1 in c:\\users\\vikee\\anaconda3\\lib\\site-packages (from pandas>=0.24.2->tpot) (2.8.1)\n",
      "Requirement already satisfied: pytz>=2017.2 in c:\\users\\vikee\\anaconda3\\lib\\site-packages (from pandas>=0.24.2->tpot) (2019.3)\n",
      "Requirement already satisfied: requests>=2.3.0 in c:\\users\\vikee\\anaconda3\\lib\\site-packages (from update-checker>=0.16->tpot) (2.24.0)\n",
      "Requirement already satisfied: six>=1.5 in c:\\users\\vikee\\anaconda3\\lib\\site-packages (from python-dateutil>=2.6.1->pandas>=0.24.2->tpot) (1.14.0)\n",
      "Requirement already satisfied: certifi>=2017.4.17 in c:\\users\\vikee\\anaconda3\\lib\\site-packages (from requests>=2.3.0->update-checker>=0.16->tpot) (2019.11.28)\n",
      "Requirement already satisfied: urllib3!=1.25.0,!=1.25.1,<1.26,>=1.21.1 in c:\\users\\vikee\\anaconda3\\lib\\site-packages (from requests>=2.3.0->update-checker>=0.16->tpot) (1.25.8)\n",
      "Requirement already satisfied: idna<3,>=2.5 in c:\\users\\vikee\\anaconda3\\lib\\site-packages (from requests>=2.3.0->update-checker>=0.16->tpot) (2.8)\n",
      "Requirement already satisfied: chardet<4,>=3.0.2 in c:\\users\\vikee\\anaconda3\\lib\\site-packages (from requests>=2.3.0->update-checker>=0.16->tpot) (3.0.4)\n",
      "Building wheels for collected packages: stopit\n",
      "  Building wheel for stopit (setup.py): started\n",
      "  Building wheel for stopit (setup.py): finished with status 'done'\n",
      "  Created wheel for stopit: filename=stopit-1.1.2-py3-none-any.whl size=11959 sha256=c6e9b155f3c52ace4dcb76a4295a5713cfaa3b1e8470133718a931b43ab38664\n",
      "  Stored in directory: c:\\users\\vikee\\appdata\\local\\pip\\cache\\wheels\\e2\\d2\\79\\eaf81edb391e27c87f51b8ef901ecc85a5363dc96b8b8d71e3\n",
      "Successfully built stopit\n",
      "Installing collected packages: stopit, update-checker, deap, tpot\n",
      "Successfully installed deap-1.3.1 stopit-1.1.2 tpot-0.11.5 update-checker-0.18.0\n",
      "Note: you may need to restart the kernel to use updated packages.\n"
     ]
    }
   ],
   "source": [
    "pip install tpot"
   ]
  },
  {
   "cell_type": "markdown",
   "metadata": {},
   "source": [
    "Population size - initially created n models with some hyperparameters\n",
    "\n",
    "Offspring size – no of models needed from the pop size\n",
    "\n",
    "Cofig dict – mention the algorithm to be used with the parameters. These parameters will be used by Population size to create the n models"
   ]
  },
  {
   "cell_type": "code",
   "execution_count": 30,
   "metadata": {},
   "outputs": [
    {
     "name": "stdout",
     "output_type": "stream",
     "text": [
      "{'n_estimators': [200, 400, 600, 800, 1000, 1200, 1400, 1600, 1800, 2000], 'max_features': ['auto', 'sqrt', 'log2'], 'max_depth': [10, 120, 230, 340, 450, 560, 670, 780, 890, 1000], 'min_samples_split': [2, 5, 10, 14], 'min_samples_leaf': [1, 2, 4, 6, 8], 'criterion': ['entropy', 'gini']}\n"
     ]
    }
   ],
   "source": [
    "import numpy as np\n",
    "from sklearn.model_selection import RandomizedSearchCV\n",
    "# Number of trees in random forest\n",
    "n_estimators = [int(x) for x in np.linspace(start = 200, stop = 2000, num = 10)]\n",
    "# Number of features to consider at every split\n",
    "max_features = ['auto', 'sqrt','log2']\n",
    "# Maximum number of levels in tree\n",
    "max_depth = [int(x) for x in np.linspace(10, 1000,10)]\n",
    "# Minimum number of samples required to split a node\n",
    "min_samples_split = [2, 5, 10,14]\n",
    "# Minimum number of samples required at each leaf node\n",
    "min_samples_leaf = [1, 2, 4,6,8]\n",
    "# Create the random grid\n",
    "param = {'n_estimators': n_estimators,\n",
    "               'max_features': max_features,\n",
    "               'max_depth': max_depth,\n",
    "               'min_samples_split': min_samples_split,\n",
    "               'min_samples_leaf': min_samples_leaf,\n",
    "              'criterion':['entropy','gini']}\n",
    "print(param)"
   ]
  },
  {
   "cell_type": "code",
   "execution_count": 31,
   "metadata": {},
   "outputs": [
    {
     "data": {
      "application/vnd.jupyter.widget-view+json": {
       "model_id": "",
       "version_major": 2,
       "version_minor": 0
      },
      "text/plain": [
       "HBox(children=(FloatProgress(value=0.0, description='Optimization Progress', max=84.0, style=ProgressStyle(des…"
      ]
     },
     "metadata": {},
     "output_type": "display_data"
    },
    {
     "name": "stdout",
     "output_type": "stream",
     "text": [
      "\n",
      "Generation 1 - Current best internal CV score: 0.7475808505220269\n",
      "Generation 2 - Current best internal CV score: 0.7475808505220269\n",
      "Generation 3 - Current best internal CV score: 0.7475808505220269\n",
      "Generation 4 - Current best internal CV score: 0.7475808505220269\n",
      "Generation 5 - Current best internal CV score: 0.7475808505220269\n",
      "Best pipeline: RandomForestClassifier(CombineDFs(input_matrix, input_matrix), criterion=gini, max_depth=670, max_features=log2, min_samples_leaf=8, min_samples_split=14, n_estimators=2000)\n"
     ]
    },
    {
     "data": {
      "text/plain": [
       "TPOTClassifier(config_dict={'sklearn.ensemble.RandomForestClassifier': {'criterion': ['entropy',\n",
       "                                                                                      'gini'],\n",
       "                                                                        'max_depth': [10,\n",
       "                                                                                      120,\n",
       "                                                                                      230,\n",
       "                                                                                      340,\n",
       "                                                                                      450,\n",
       "                                                                                      560,\n",
       "                                                                                      670,\n",
       "                                                                                      780,\n",
       "                                                                                      890,\n",
       "                                                                                      1000],\n",
       "                                                                        'max_features': ['auto',\n",
       "                                                                                         'sqrt',\n",
       "                                                                                         'log2'],\n",
       "                                                                        'min_samples_leaf': [1,\n",
       "                                                                                             2,\n",
       "                                                                                             4,\n",
       "                                                                                             6,\n",
       "                                                                                             8],\n",
       "                                                                        'min_samples_split': [2,\n",
       "                                                                                              5,\n",
       "                                                                                              10,\n",
       "                                                                                              14],\n",
       "                                                                        'n_estimators': [200,\n",
       "                                                                                         400,\n",
       "                                                                                         600,\n",
       "                                                                                         800,\n",
       "                                                                                         1000,\n",
       "                                                                                         1200,\n",
       "                                                                                         1400,\n",
       "                                                                                         1600,\n",
       "                                                                                         1800,\n",
       "                                                                                         2000]}},\n",
       "               cv=4, early_stop=12, generations=5,\n",
       "               log_file=<colorama.ansitowin32.StreamWrapper object at 0x000001A8C14777C8>,\n",
       "               offspring_size=12, population_size=24, scoring='accuracy',\n",
       "               verbosity=2)"
      ]
     },
     "execution_count": 31,
     "metadata": {},
     "output_type": "execute_result"
    }
   ],
   "source": [
    "from tpot import TPOTClassifier\n",
    "\n",
    "\n",
    "tpot_classifier = TPOTClassifier(generations= 5, population_size= 24, offspring_size= 12,\n",
    "                                 verbosity= 2, early_stop= 12,\n",
    "                                 config_dict={'sklearn.ensemble.RandomForestClassifier': param}, \n",
    "                                 cv = 4, scoring = 'accuracy')\n",
    "tpot_classifier.fit(X_train,y_train)"
   ]
  },
  {
   "cell_type": "markdown",
   "metadata": {},
   "source": [
    "Tpot_calssifier.get_params gives the parameters of the offsprings"
   ]
  },
  {
   "cell_type": "code",
   "execution_count": null,
   "metadata": {},
   "outputs": [],
   "source": [
    "\n",
    "accuracy = tpot_classifier.score(X_test, y_test)\n",
    "print(accuracy)"
   ]
  },
  {
   "cell_type": "markdown",
   "metadata": {},
   "source": []
  }
 ],
 "metadata": {
  "kernelspec": {
   "display_name": "Python 3",
   "language": "python",
   "name": "python3"
  },
  "language_info": {
   "codemirror_mode": {
    "name": "ipython",
    "version": 3
   },
   "file_extension": ".py",
   "mimetype": "text/x-python",
   "name": "python",
   "nbconvert_exporter": "python",
   "pygments_lexer": "ipython3",
   "version": "3.7.6"
  }
 },
 "nbformat": 4,
 "nbformat_minor": 4
}
